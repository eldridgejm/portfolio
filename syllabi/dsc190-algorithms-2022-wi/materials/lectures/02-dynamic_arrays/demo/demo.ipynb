{
 "cells": [
  {
   "cell_type": "markdown",
   "metadata": {},
   "source": [
    "# Dynamic Arrays"
   ]
  },
  {
   "cell_type": "markdown",
   "metadata": {},
   "source": [
    "Here is a simple Python implementation of a dynamic array. It uses numpy to store the underlying array."
   ]
  },
  {
   "cell_type": "code",
   "execution_count": 102,
   "metadata": {},
   "outputs": [],
   "source": [
    "import numpy as np\n",
    "\n",
    "class DynamicArray:\n",
    "    \"\"\"A dynamic array of floats.\"\"\"\n",
    "    \n",
    "    def __init__(self, initial_physical_size=4, growth_factor=2):\n",
    "        self._physical_size = initial_physical_size\n",
    "        self._underlying_array = np.zeros(self._physical_size)\n",
    "        self.growth_factor = 2\n",
    "        \n",
    "        # how much of the underlying array is used?\n",
    "        self._logical_size = 0\n",
    "        \n",
    "    def __len__(self):\n",
    "        return self._logical_size\n",
    "\n",
    "    def __getitem__(self, ix):\n",
    "        if ix >= self._logical_size:\n",
    "            raise IndexError\n",
    "        return self._underlying_array[ix]\n",
    "    \n",
    "    def __repr__(self):\n",
    "        return f'DynamicArray({self._underlying_array[:len(self)]})'\n",
    "    \n",
    "    def append(self, x):\n",
    "        if self._logical_size == self._physical_size:\n",
    "            # grow the underlying array\n",
    "            new_underlying_array = np.zeros(self._physical_size * self.growth_factor)\n",
    "            # copy elements to the new underlying array\n",
    "            new_underlying_array[:self._logical_size] = self._underlying_array[:self._logical_size]\n",
    "            self._underlying_array = new_underlying_array\n",
    "            self._physical_size *= self.growth_factor\n",
    "                    \n",
    "        self._underlying_array[self._logical_size] = x\n",
    "        self._logical_size += 1"
   ]
  },
  {
   "cell_type": "markdown",
   "metadata": {},
   "source": [
    "Let's test it out:"
   ]
  },
  {
   "cell_type": "code",
   "execution_count": 103,
   "metadata": {},
   "outputs": [
    {
     "data": {
      "text/plain": [
       "DynamicArray([])"
      ]
     },
     "execution_count": 103,
     "metadata": {},
     "output_type": "execute_result"
    }
   ],
   "source": [
    "arr = DynamicArray()\n",
    "arr"
   ]
  },
  {
   "cell_type": "code",
   "execution_count": 104,
   "metadata": {},
   "outputs": [],
   "source": [
    "for i in range(5):\n",
    "    arr.append(i)"
   ]
  },
  {
   "cell_type": "code",
   "execution_count": 105,
   "metadata": {},
   "outputs": [
    {
     "data": {
      "text/plain": [
       "DynamicArray([0. 1. 2. 3. 4.])"
      ]
     },
     "execution_count": 105,
     "metadata": {},
     "output_type": "execute_result"
    }
   ],
   "source": [
    "arr"
   ]
  },
  {
   "cell_type": "code",
   "execution_count": 106,
   "metadata": {},
   "outputs": [
    {
     "data": {
      "text/plain": [
       "8"
      ]
     },
     "execution_count": 106,
     "metadata": {},
     "output_type": "execute_result"
    }
   ],
   "source": [
    "arr._physical_size"
   ]
  },
  {
   "cell_type": "code",
   "execution_count": 107,
   "metadata": {},
   "outputs": [
    {
     "data": {
      "text/plain": [
       "array([0., 1., 2., 3., 4., 0., 0., 0.])"
      ]
     },
     "execution_count": 107,
     "metadata": {},
     "output_type": "execute_result"
    }
   ],
   "source": [
    "arr._underlying_array"
   ]
  },
  {
   "cell_type": "code",
   "execution_count": 108,
   "metadata": {},
   "outputs": [],
   "source": [
    "for i in range(5, 12):\n",
    "    arr.append(i)"
   ]
  },
  {
   "cell_type": "code",
   "execution_count": 109,
   "metadata": {},
   "outputs": [
    {
     "data": {
      "text/plain": [
       "DynamicArray([ 0.  1.  2.  3.  4.  5.  6.  7.  8.  9. 10. 11.])"
      ]
     },
     "execution_count": 109,
     "metadata": {},
     "output_type": "execute_result"
    }
   ],
   "source": [
    "arr"
   ]
  },
  {
   "cell_type": "code",
   "execution_count": 110,
   "metadata": {},
   "outputs": [
    {
     "data": {
      "text/plain": [
       "16"
      ]
     },
     "execution_count": 110,
     "metadata": {},
     "output_type": "execute_result"
    }
   ],
   "source": [
    "arr._physical_size"
   ]
  },
  {
   "cell_type": "code",
   "execution_count": 111,
   "metadata": {},
   "outputs": [
    {
     "data": {
      "text/plain": [
       "array([ 0.,  1.,  2.,  3.,  4.,  5.,  6.,  7.,  8.,  9., 10., 11.,  0.,\n",
       "        0.,  0.,  0.])"
      ]
     },
     "execution_count": 111,
     "metadata": {},
     "output_type": "execute_result"
    }
   ],
   "source": [
    "arr._underlying_array"
   ]
  }
 ],
 "metadata": {
  "kernelspec": {
   "display_name": "Python 3",
   "language": "python",
   "name": "python3"
  },
  "language_info": {
   "codemirror_mode": {
    "name": "ipython",
    "version": 3
   },
   "file_extension": ".py",
   "mimetype": "text/x-python",
   "name": "python",
   "nbconvert_exporter": "python",
   "pygments_lexer": "ipython3",
   "version": "3.8.5"
  }
 },
 "nbformat": 4,
 "nbformat_minor": 4
}
