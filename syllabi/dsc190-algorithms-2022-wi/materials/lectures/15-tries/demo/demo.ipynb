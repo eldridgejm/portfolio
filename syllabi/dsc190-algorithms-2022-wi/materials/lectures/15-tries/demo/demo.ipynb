{
 "cells": [
  {
   "cell_type": "markdown",
   "metadata": {},
   "source": [
    "# Tries"
   ]
  },
  {
   "cell_type": "code",
   "execution_count": 1,
   "metadata": {},
   "outputs": [],
   "source": [
    "# end-of-string sentinel\n",
    "END_OF_STRING = object()\n",
    "    \n",
    "\n",
    "class TrieNode:\n",
    "    \n",
    "    def __init__(self):\n",
    "        self.children = {}\n",
    "        \n",
    "    def insert(self, s, start=0, stop=None):\n",
    "        \"\"\"Insert s[start:stop] into the trie.\"\"\"\n",
    "        if stop is None:\n",
    "            stop = len(s)\n",
    "            \n",
    "        if start >= stop:\n",
    "            self.children[END_OF_STRING] = TrieNode()\n",
    "            return\n",
    "        \n",
    "        if s[start] not in self.children:\n",
    "            self.children[s[start]] = TrieNode()\n",
    "            \n",
    "        child = self.children[s[start]]\n",
    "        child.insert(s, start + 1, stop)\n",
    "        \n",
    "    def walk(self, s, start=0, stop=None):\n",
    "        \"\"\"Walk the trie following s[start:stop].\n",
    "        Raises ValueError if falls off tree.\n",
    "        Returns last node encountered otherwise.\"\"\"\n",
    "        if stop is None:\n",
    "            stop = len(s)\n",
    "            \n",
    "        if start >= stop:\n",
    "            return self\n",
    "        \n",
    "        if s[start] not in self.children:\n",
    "            raise ValueError('Fell off tree.')\n",
    "        else:\n",
    "            child = self.children[s[start]]\n",
    "            return child.walk(s, start + 1, stop)\n",
    "    \n",
    "    def membership_query(self, s, start=0, stop=None):\n",
    "        \"\"\"Determine True/False if s[start:stop] is in trie.\"\"\"\n",
    "        try:\n",
    "            node = self.walk(s, start, stop)\n",
    "        except ValueError:\n",
    "            return False\n",
    "        \n",
    "        return END_OF_STRING in node.children\n",
    "        \n",
    "    def produce(self, prefix=''):\n",
    "        \"\"\"Generate the words in the trie.\"\"\"\n",
    "        for letter, child in self.children.items():\n",
    "            if letter is END_OF_STRING:\n",
    "                yield prefix\n",
    "            else:\n",
    "                yield from child.produce(prefix + letter)\n",
    "                \n",
    "    def complete(self, prefix):\n",
    "        try:\n",
    "            node = self.walk(prefix)\n",
    "        except ValueError:\n",
    "            return []\n",
    "        return list(node.produce())"
   ]
  },
  {
   "cell_type": "markdown",
   "metadata": {},
   "source": [
    "## Small Example\n",
    "\n",
    "Here is a small example of a trie containing just four words."
   ]
  },
  {
   "cell_type": "code",
   "execution_count": 2,
   "metadata": {},
   "outputs": [],
   "source": [
    "root = TrieNode()\n",
    "root.insert('testing')\n",
    "root.insert('and')\n",
    "root.insert('this')\n",
    "root.insert('that')"
   ]
  },
  {
   "cell_type": "code",
   "execution_count": 3,
   "metadata": {},
   "outputs": [
    {
     "data": {
      "text/plain": [
       "['is', 'at']"
      ]
     },
     "execution_count": 3,
     "metadata": {},
     "output_type": "execute_result"
    }
   ],
   "source": [
    "root.complete('th')"
   ]
  },
  {
   "cell_type": "markdown",
   "metadata": {},
   "source": [
    "## All Words in *Ulysses*"
   ]
  },
  {
   "cell_type": "markdown",
   "metadata": {},
   "source": [
    "Let's read all of the words in Joyce's *Ulysses* into a trie."
   ]
  },
  {
   "cell_type": "code",
   "execution_count": 4,
   "metadata": {},
   "outputs": [],
   "source": [
    "def clean_up_word(s):\n",
    "    return s.strip('.,').lower()\n",
    "\n",
    "ulysses_words = set()\n",
    "for line in open('ulysses.txt'):\n",
    "    for word in line.split():\n",
    "        ulysses_words.add(clean_up_word(word))"
   ]
  },
  {
   "cell_type": "code",
   "execution_count": 5,
   "metadata": {},
   "outputs": [],
   "source": [
    "ulysses_trie = TrieNode()\n",
    "for word in ulysses_words:\n",
    "    ulysses_trie.insert(word)"
   ]
  },
  {
   "cell_type": "markdown",
   "metadata": {},
   "source": [
    "We'll compare the trie against a brute force prefix search:"
   ]
  },
  {
   "cell_type": "code",
   "execution_count": 6,
   "metadata": {},
   "outputs": [],
   "source": [
    "def brute_force_prefix_search(words, prefix):\n",
    "    matches = []\n",
    "    for word in words:\n",
    "        if word.startswith(prefix):\n",
    "            matches.append(word)\n",
    "    return matches"
   ]
  },
  {
   "cell_type": "markdown",
   "metadata": {},
   "source": [
    "How long does it take to find all words in the book that start with `'thu'`, using the brute force search?"
   ]
  },
  {
   "cell_type": "code",
   "execution_count": 7,
   "metadata": {},
   "outputs": [
    {
     "name": "stdout",
     "output_type": "stream",
     "text": [
      "4.17 ms ± 34.9 µs per loop (mean ± std. dev. of 7 runs, 100 loops each)\n"
     ]
    }
   ],
   "source": [
    "%%timeit\n",
    "brute_force_prefix_search(ulysses_words, 'thu')"
   ]
  },
  {
   "cell_type": "markdown",
   "metadata": {},
   "source": [
    "Let's compare this to the trie."
   ]
  },
  {
   "cell_type": "code",
   "execution_count": 8,
   "metadata": {},
   "outputs": [
    {
     "name": "stdout",
     "output_type": "stream",
     "text": [
      "54.2 µs ± 885 ns per loop (mean ± std. dev. of 7 runs, 10000 loops each)\n"
     ]
    }
   ],
   "source": [
    "%%timeit\n",
    "ulysses_trie.complete('thu')"
   ]
  },
  {
   "cell_type": "markdown",
   "metadata": {},
   "source": [
    "On my machine, I find that the brute force search through a set takes around 4 milliseconds, while the trie takes 52 microseconds. That's a pretty big speedup!"
   ]
  },
  {
   "cell_type": "markdown",
   "metadata": {},
   "source": [
    "What about a membership query?"
   ]
  },
  {
   "cell_type": "code",
   "execution_count": 9,
   "metadata": {},
   "outputs": [
    {
     "name": "stdout",
     "output_type": "stream",
     "text": [
      "39.2 ns ± 0.724 ns per loop (mean ± std. dev. of 7 runs, 10000000 loops each)\n"
     ]
    }
   ],
   "source": [
    "%%timeit\n",
    "'thunderation!' in ulysses_words"
   ]
  },
  {
   "cell_type": "code",
   "execution_count": 10,
   "metadata": {},
   "outputs": [
    {
     "name": "stdout",
     "output_type": "stream",
     "text": [
      "5.46 µs ± 61.6 ns per loop (mean ± std. dev. of 7 runs, 100000 loops each)\n"
     ]
    }
   ],
   "source": [
    "%%timeit\n",
    "ulysses_trie.membership_query('thunderation!')"
   ]
  },
  {
   "cell_type": "markdown",
   "metadata": {},
   "source": [
    "The trie is *considerably slower*. Why is this? Hash tables and tries both take $\\Theta(|p|)$ (expected) time to perform a membership query. A query in a trie simply walks down $|p|$ nodes of the tree. A hash table, on the other hand, requires hashing the query string in $\\Theta(|p|)$, then must loop through a bucket, performing a string equality check on each entry in the bucket. So the total time taken by a hash table is $\\Theta(|p|) + c \\cdot O(|p|)$, where $c$ is the number of elements in the bucket which appear before the query string.\n",
    "\n",
    "In some sense, the hash table is doing a lot more work and we'd therefore expect it to take longer. But there are plenty of factors which mean that the hash table is actually faster here. For one, Python hash tables are *super* optimized. The $\\Theta(|p|)$ work needed to hash the string is done in C, while the $\\Theta(|p|)$ work done by the trie is in a pure Python loop and involves a lot of indirection. If we wanted to make trie membership query more competitive, we'd need to implement our trie in a lower-level language (C, Rust, etc.). The hash table is plenty fast."
   ]
  },
  {
   "cell_type": "markdown",
   "metadata": {},
   "source": [
    "## Memory Usage"
   ]
  },
  {
   "cell_type": "markdown",
   "metadata": {},
   "source": [
    "It might seem that a trie will result in memory savings. For instance, suppose we stored the strings `\"AAAG\"` and `\"AAAC\"` in a trie and in a hash table. On one hand, the trie is able to \"de-duplicate\" the common prefixes because it doesn't store the strings themselves -- they are encoded by their paths in the trie. A hash table, on the other hand, stores both strings in their entirety, including the duplicate prefixes.\n",
    "\n",
    "In practice, however, the memory savings are hard to realize due to the fact that the trie must maintain a hash table for *every* node. Hash tables (especially in Python) have considerable memory overhead.\n",
    "\n",
    "This short experiment will demonstrate the problem. First, let's consider the total number of characters in all words in the *Ulysses* data set."
   ]
  },
  {
   "cell_type": "code",
   "execution_count": 11,
   "metadata": {},
   "outputs": [
    {
     "data": {
      "text/plain": [
       "271200"
      ]
     },
     "execution_count": 11,
     "metadata": {},
     "output_type": "execute_result"
    }
   ],
   "source": [
    "sum(len(word) for word in ulysses_words)"
   ]
  },
  {
   "cell_type": "markdown",
   "metadata": {},
   "source": [
    "If we use a hash table to store the words directly, this is the number of individual characters that it will need to allocate memory for. On the other hand, let's count the number of nodes in the trie representing the same collection of words -- this will be close to the number of characters stored in the trie, since each edge represents a character:"
   ]
  },
  {
   "cell_type": "code",
   "execution_count": 12,
   "metadata": {},
   "outputs": [],
   "source": [
    "def number_of_nodes(root):\n",
    "    return 1 + sum(number_of_nodes(child) for child in root.children.values())"
   ]
  },
  {
   "cell_type": "code",
   "execution_count": 13,
   "metadata": {},
   "outputs": [
    {
     "data": {
      "text/plain": [
       "143192"
      ]
     },
     "execution_count": 13,
     "metadata": {},
     "output_type": "execute_result"
    }
   ],
   "source": [
    "number_of_nodes(ulysses_trie)"
   ]
  },
  {
   "cell_type": "markdown",
   "metadata": {},
   "source": [
    "That's about half of what the hash table uses! This number depends on the data itself and how many common prefixes there are. In the \"best case\" for a trie, the strings all have long, common prefixes, like:\n",
    "\n",
    "- `\"AAAAAAAAAAAGATTACA\"`\n",
    "- `\"AAAAAAAAAAACTATTAC\"`\n",
    "- `\"AAAAAAAAAAAGGGATAC\"`\n",
    "\n",
    "Here, the trie \"compresses\" the common prefixes into a common path, and stores the leading `A`s once each, instead of three times each. But in the hash table, each `A` is stored.\n",
    "\n",
    "So in short, the trie is able to keep track of maybe half the number of characters the hash table approach remembers. But a trie has the additional overhead of needing to store a hash table in each node. How much memory does this use? We can use `sys.getsizeof` to get an estimate."
   ]
  },
  {
   "cell_type": "code",
   "execution_count": 14,
   "metadata": {},
   "outputs": [
    {
     "data": {
      "text/plain": [
       "232"
      ]
     },
     "execution_count": 14,
     "metadata": {},
     "output_type": "execute_result"
    }
   ],
   "source": [
    "import sys\n",
    "sys.getsizeof(dict())"
   ]
  },
  {
   "cell_type": "markdown",
   "metadata": {},
   "source": [
    "It looks like an empty dictionary takes 232 bytes of memory. How does this compare to a single character?"
   ]
  },
  {
   "cell_type": "code",
   "execution_count": 15,
   "metadata": {},
   "outputs": [
    {
     "data": {
      "text/plain": [
       "50"
      ]
     },
     "execution_count": 15,
     "metadata": {},
     "output_type": "execute_result"
    }
   ],
   "source": [
    "sys.getsizeof('a')"
   ]
  },
  {
   "cell_type": "markdown",
   "metadata": {},
   "source": [
    "An empty dictionary is almost 5 times as large as a character! This means that even if the `.children` dictionaries of each node were all empty, the trie would take 4-5 times as much memory as a single hash table storing all of the strings! And this doesn't even take into account the memory needed to represent the `TrieNode` object itself.\n",
    "\n",
    "In some cases it might be possible to see memory savings with tries. For instance, if our trie stores strings over the alphabet G, A, T, C, we don't need to store a dictionary at each node; it suffices to store 4 (possibly-null) pointers to the children. Each pointer is probably a 64-bit integer, taking 32 bytes in total. But to take advantage of this, we'd need to implement our trie in a low-level language (C, C++, Rust, etc.). Python isn't built for such low-level memory manipulation."
   ]
  }
 ],
 "metadata": {
  "kernelspec": {
   "display_name": "Python 3",
   "language": "python",
   "name": "python3"
  },
  "language_info": {
   "codemirror_mode": {
    "name": "ipython",
    "version": 3
   },
   "file_extension": ".py",
   "mimetype": "text/x-python",
   "name": "python",
   "nbconvert_exporter": "python",
   "pygments_lexer": "ipython3",
   "version": "3.8.5"
  }
 },
 "nbformat": 4,
 "nbformat_minor": 4
}
